{
 "cells": [
  {
   "cell_type": "code",
   "execution_count": 1,
   "metadata": {},
   "outputs": [
    {
     "name": "stdout",
     "output_type": "stream",
     "text": [
      "[name: \"/device:CPU:0\"\n",
      "device_type: \"CPU\"\n",
      "memory_limit: 268435456\n",
      "locality {\n",
      "}\n",
      "incarnation: 4711710084712862418\n",
      ", name: \"/device:XLA_CPU:0\"\n",
      "device_type: \"XLA_CPU\"\n",
      "memory_limit: 17179869184\n",
      "locality {\n",
      "}\n",
      "incarnation: 12581916841998728057\n",
      "physical_device_desc: \"device: XLA_CPU device\"\n",
      "]\n"
     ]
    }
   ],
   "source": [
    "import pandas as pd\n",
    "import os\n",
    "import shutil\n",
    "import glob\n",
    "import cv2\n",
    "\n",
    "import tensorflow as tf\n",
    "from tensorflow.keras.models import Sequential, Model\n",
    "from tensorflow.keras.layers import *\n",
    "from tensorflow.keras.optimizers import *\n",
    "from tensorflow.keras.applications import *\n",
    "from tensorflow.keras.callbacks import *\n",
    "from tensorflow.keras.initializers import *\n",
    "from tensorflow.keras.preprocessing.image import ImageDataGenerator\n",
    "from tensorflow.python.client import device_lib\n",
    "print(device_lib.list_local_devices())"
   ]
  },
  {
   "cell_type": "code",
   "execution_count": 16,
   "metadata": {},
   "outputs": [],
   "source": [
    "PATH = \"./data/\""
   ]
  },
  {
   "cell_type": "code",
   "execution_count": 17,
   "metadata": {},
   "outputs": [
    {
     "data": {
      "text/plain": [
       "225"
      ]
     },
     "execution_count": 17,
     "metadata": {},
     "output_type": "execute_result"
    }
   ],
   "source": [
    "classes = os.listdir(train)\n",
    "len(classes)"
   ]
  },
  {
   "cell_type": "code",
   "execution_count": 18,
   "metadata": {},
   "outputs": [
    {
     "data": {
      "text/plain": [
       "['AFRICAN FIREFINCH',\n",
       " 'ALBATROSS',\n",
       " 'ALEXANDRINE PARAKEET',\n",
       " 'AMERICAN AVOCET',\n",
       " 'AMERICAN BITTERN',\n",
       " 'AMERICAN COOT',\n",
       " 'AMERICAN GOLDFINCH',\n",
       " 'AMERICAN KESTREL',\n",
       " 'AMERICAN PIPIT',\n",
       " 'AMERICAN REDSTART',\n",
       " 'ANHINGA',\n",
       " 'ANNAS HUMMINGBIRD',\n",
       " 'ANTBIRD',\n",
       " 'ARARIPE MANAKIN',\n",
       " 'ASIAN CRESTED IBIS',\n",
       " 'BALD EAGLE',\n",
       " 'BALI STARLING',\n",
       " 'BANANAQUIT',\n",
       " 'BAR-TAILED GODWIT',\n",
       " 'BARN OWL',\n",
       " 'BARN SWALLOW',\n",
       " 'BARRED PUFFBIRD',\n",
       " 'BAY-BREASTED WARBLER',\n",
       " 'BEARDED BARBET',\n",
       " 'BELTED KINGFISHER',\n",
       " 'BIRD OF PARADISE',\n",
       " 'BLACK FRANCOLIN',\n",
       " 'BLACK SKIMMER',\n",
       " 'BLACK SWAN',\n",
       " 'BLACK THROATED WARBLER',\n",
       " 'BLACK VULTURE',\n",
       " 'BLACK-CAPPED CHICKADEE',\n",
       " 'BLACK-NECKED GREBE',\n",
       " 'BLACK-THROATED SPARROW',\n",
       " 'BLUE GROUSE',\n",
       " 'BLUE HERON',\n",
       " 'BOBOLINK',\n",
       " 'BROWN NOODY',\n",
       " 'BROWN THRASHER',\n",
       " 'CACTUS WREN',\n",
       " 'CALIFORNIA CONDOR',\n",
       " 'CALIFORNIA GULL',\n",
       " 'CALIFORNIA QUAIL',\n",
       " 'CANARY',\n",
       " 'CAPE MAY WARBLER',\n",
       " 'CAPUCHINBIRD',\n",
       " 'CARMINE BEE-EATER',\n",
       " 'CASPIAN TERN',\n",
       " 'CASSOWARY',\n",
       " 'CHARA DE COLLAR',\n",
       " 'CHIPPING SPARROW',\n",
       " 'CINNAMON TEAL',\n",
       " 'COCK OF THE  ROCK',\n",
       " 'COCKATOO',\n",
       " 'COMMON GRACKLE',\n",
       " 'COMMON HOUSE MARTIN',\n",
       " 'COMMON LOON',\n",
       " 'COMMON POORWILL',\n",
       " 'COMMON STARLING',\n",
       " 'COUCHS KINGBIRD',\n",
       " 'CRESTED AUKLET',\n",
       " 'CRESTED CARACARA',\n",
       " 'CROW',\n",
       " 'CROWNED PIGEON',\n",
       " 'CUBAN TODY',\n",
       " 'CURL CRESTED ARACURI',\n",
       " 'D-ARNAUDS BARBET',\n",
       " 'DARK EYED JUNCO',\n",
       " 'BALTIMORE ORIOLE',\n",
       " 'BLACKBURNIAM WARBLER',\n",
       " 'CHUKAR PARTRIDGE',\n",
       " 'DOWNY WOODPECKER',\n",
       " 'GOLDEN CHEEKED WARBLER',\n",
       " 'HOUSE FINCH',\n",
       " 'MALEO',\n",
       " 'OSPREY',\n",
       " 'RAZORBILL',\n",
       " 'SAND MARTIN',\n",
       " 'TAKAHE',\n",
       " 'EASTERN BLUEBIRD',\n",
       " 'EASTERN MEADOWLARK',\n",
       " 'EASTERN ROSELLA',\n",
       " 'EASTERN TOWEE',\n",
       " 'ELEGANT TROGON',\n",
       " 'ELLIOTS  PHEASANT',\n",
       " 'EMPEROR PENGUIN',\n",
       " 'EMU',\n",
       " 'EURASIAN MAGPIE',\n",
       " 'EVENING GROSBEAK',\n",
       " 'FLAME TANAGER',\n",
       " 'FLAMINGO',\n",
       " 'FRIGATE',\n",
       " 'GAMBELS QUAIL',\n",
       " 'GILA WOODPECKER',\n",
       " 'GILDED FLICKER',\n",
       " 'GLOSSY IBIS',\n",
       " 'GOLD WING WARBLER',\n",
       " 'GOLDEN CHLOROPHONIA',\n",
       " 'GOLDEN EAGLE',\n",
       " 'GOLDEN PHEASANT',\n",
       " 'GOLDEN PIPIT',\n",
       " 'GOULDIAN FINCH',\n",
       " 'GRAY CATBIRD',\n",
       " 'GRAY PARTRIDGE',\n",
       " 'GREEN JAY',\n",
       " 'GREY PLOVER',\n",
       " 'GUINEAFOWL',\n",
       " 'GYRFALCON',\n",
       " 'HARPY EAGLE',\n",
       " 'HAWAIIAN GOOSE',\n",
       " 'HOODED MERGANSER',\n",
       " 'HOOPOES',\n",
       " 'HORNBILL',\n",
       " 'HORNED GUAN',\n",
       " 'HORNED SUNGEM',\n",
       " 'HOUSE SPARROW',\n",
       " 'IMPERIAL SHAQ',\n",
       " 'INCA TERN',\n",
       " 'INDIAN BUSTARD',\n",
       " 'INDIGO BUNTING',\n",
       " 'JABIRU',\n",
       " 'JAVAN MAGPIE',\n",
       " 'KAKAPO',\n",
       " 'KILLDEAR',\n",
       " 'KING VULTURE',\n",
       " 'KIWI',\n",
       " 'KOOKABURRA',\n",
       " 'LARK BUNTING',\n",
       " 'LEARS MACAW',\n",
       " 'LILAC ROLLER',\n",
       " 'LONG-EARED OWL',\n",
       " 'MALABAR HORNBILL',\n",
       " 'MALACHITE KINGFISHER',\n",
       " 'MALLARD DUCK',\n",
       " 'MANDRIN DUCK',\n",
       " 'MARABOU STORK',\n",
       " 'MASKED BOOBY',\n",
       " 'MIKADO  PHEASANT',\n",
       " 'MOURNING DOVE',\n",
       " 'MYNA',\n",
       " 'NICOBAR PIGEON',\n",
       " 'NORTHERN CARDINAL',\n",
       " 'NORTHERN FLICKER',\n",
       " 'NORTHERN GANNET',\n",
       " 'NORTHERN GOSHAWK',\n",
       " 'NORTHERN JACANA',\n",
       " 'NORTHERN MOCKINGBIRD',\n",
       " 'NORTHERN PARULA',\n",
       " 'NORTHERN RED BISHOP',\n",
       " 'OCELLATED TURKEY',\n",
       " 'OKINAWA RAIL',\n",
       " 'OSTRICH',\n",
       " 'PAINTED BUNTIG',\n",
       " 'PALILA',\n",
       " 'PARADISE TANAGER',\n",
       " 'PARUS MAJOR',\n",
       " 'PEACOCK',\n",
       " 'PELICAN',\n",
       " 'PEREGRINE FALCON',\n",
       " 'PHILIPPINE EAGLE',\n",
       " 'PINK ROBIN',\n",
       " 'PUFFIN',\n",
       " 'PURPLE FINCH',\n",
       " 'PURPLE GALLINULE',\n",
       " 'PURPLE MARTIN',\n",
       " 'PURPLE SWAMPHEN',\n",
       " 'QUETZAL',\n",
       " 'RAINBOW LORIKEET',\n",
       " 'RED FACED CORMORANT',\n",
       " 'RED FACED WARBLER',\n",
       " 'RED HEADED DUCK',\n",
       " 'RED HEADED WOODPECKER',\n",
       " 'RED HONEY CREEPER',\n",
       " 'RED THROATED BEE EATER',\n",
       " 'RED WINGED BLACKBIRD',\n",
       " 'RED WISKERED BULBUL',\n",
       " 'RING-NECKED PHEASANT',\n",
       " 'ROADRUNNER',\n",
       " 'ROBIN',\n",
       " 'ROCK DOVE',\n",
       " 'ROSY FACED LOVEBIRD',\n",
       " 'ROUGH LEG BUZZARD',\n",
       " 'RUBY THROATED HUMMINGBIRD',\n",
       " 'RUFOUS KINGFISHER',\n",
       " 'RUFUOS MOTMOT',\n",
       " 'SCARLET IBIS',\n",
       " 'SCARLET MACAW',\n",
       " 'SHOEBILL',\n",
       " 'SMITHS LONGSPUR',\n",
       " 'SNOWY EGRET',\n",
       " 'SNOWY OWL',\n",
       " 'SORA',\n",
       " 'SPANGLED COTINGA',\n",
       " 'SPLENDID WREN',\n",
       " 'SPOON BILED SANDPIPER',\n",
       " 'SPOONBILL',\n",
       " 'STEAMER DUCK',\n",
       " 'STORK BILLED KINGFISHER',\n",
       " 'STRAWBERRY FINCH',\n",
       " 'STRIPPED SWALLOW',\n",
       " 'SUPERB STARLING',\n",
       " 'TAIWAN MAGPIE',\n",
       " 'TASMANIAN HEN',\n",
       " 'TEAL DUCK',\n",
       " 'TIT MOUSE',\n",
       " 'TOUCHAN',\n",
       " 'TOWNSENDS WARBLER',\n",
       " 'TREE SWALLOW',\n",
       " 'TRUMPTER SWAN',\n",
       " 'TURKEY VULTURE',\n",
       " 'TURQUOISE MOTMOT',\n",
       " 'VARIED THRUSH',\n",
       " 'VENEZUELIAN TROUPIAL',\n",
       " 'VERMILION FLYCATHER',\n",
       " 'VIOLET GREEN SWALLOW',\n",
       " 'WATTLED CURASSOW',\n",
       " 'WHIMBREL',\n",
       " 'WHITE CHEEKED TURACO',\n",
       " 'WHITE NECKED RAVEN',\n",
       " 'WHITE TAILED TROPIC',\n",
       " 'WILD TURKEY',\n",
       " 'WILSONS BIRD OF PARADISE',\n",
       " 'WOOD DUCK',\n",
       " 'YELLOW CACIQUE',\n",
       " 'YELLOW HEADED BLACKBIRD']"
      ]
     },
     "execution_count": 18,
     "metadata": {},
     "output_type": "execute_result"
    }
   ],
   "source": [
    "classes"
   ]
  },
  {
   "cell_type": "code",
   "execution_count": 19,
   "metadata": {},
   "outputs": [],
   "source": [
    "images = []\n",
    "label = []\n",
    "for bird in classes:\n",
    "    x = os.listdir(PATH+bird)\n",
    "    for i in x:\n",
    "#         print(Path+dish+\"/\"+i)\n",
    "#         img = cv2.imread(Path+dish+\"/\"+i, cv2.IMREAD_UNCHANGED)\n",
    "#         resized = cv2.resize(img, (224,224), interpolation = cv2.INTER_AREA)\n",
    "#         cv2.imwrite(Path+dish+\"/\"+i, resized)\n",
    "        images.append(bird+'_'+i)\n",
    "        label.append(bird)"
   ]
  },
  {
   "cell_type": "code",
   "execution_count": 20,
   "metadata": {},
   "outputs": [
    {
     "name": "stdout",
     "output_type": "stream",
     "text": [
      "33566 33566\n"
     ]
    }
   ],
   "source": [
    "print(len(images),  len(label))"
   ]
  },
  {
   "cell_type": "code",
   "execution_count": 21,
   "metadata": {},
   "outputs": [
    {
     "data": {
      "text/plain": [
       "array(['AFRICAN FIREFINCH', 'ALBATROSS', 'ALEXANDRINE PARAKEET',\n",
       "       'AMERICAN AVOCET', 'AMERICAN BITTERN', 'AMERICAN COOT',\n",
       "       'AMERICAN GOLDFINCH', 'AMERICAN KESTREL', 'AMERICAN PIPIT',\n",
       "       'AMERICAN REDSTART', 'ANHINGA', 'ANNAS HUMMINGBIRD', 'ANTBIRD',\n",
       "       'ARARIPE MANAKIN', 'ASIAN CRESTED IBIS', 'BALD EAGLE',\n",
       "       'BALI STARLING', 'BANANAQUIT', 'BAR-TAILED GODWIT', 'BARN OWL',\n",
       "       'BARN SWALLOW', 'BARRED PUFFBIRD', 'BAY-BREASTED WARBLER',\n",
       "       'BEARDED BARBET', 'BELTED KINGFISHER', 'BIRD OF PARADISE',\n",
       "       'BLACK FRANCOLIN', 'BLACK SKIMMER', 'BLACK SWAN',\n",
       "       'BLACK THROATED WARBLER', 'BLACK VULTURE',\n",
       "       'BLACK-CAPPED CHICKADEE', 'BLACK-NECKED GREBE',\n",
       "       'BLACK-THROATED SPARROW', 'BLUE GROUSE', 'BLUE HERON', 'BOBOLINK',\n",
       "       'BROWN NOODY', 'BROWN THRASHER', 'CACTUS WREN',\n",
       "       'CALIFORNIA CONDOR', 'CALIFORNIA GULL', 'CALIFORNIA QUAIL',\n",
       "       'CANARY', 'CAPE MAY WARBLER', 'CAPUCHINBIRD', 'CARMINE BEE-EATER',\n",
       "       'CASPIAN TERN', 'CASSOWARY', 'CHARA DE COLLAR', 'CHIPPING SPARROW',\n",
       "       'CINNAMON TEAL', 'COCK OF THE  ROCK', 'COCKATOO', 'COMMON GRACKLE',\n",
       "       'COMMON HOUSE MARTIN', 'COMMON LOON', 'COMMON POORWILL',\n",
       "       'COMMON STARLING', 'COUCHS KINGBIRD', 'CRESTED AUKLET',\n",
       "       'CRESTED CARACARA', 'CROW', 'CROWNED PIGEON', 'CUBAN TODY',\n",
       "       'CURL CRESTED ARACURI', 'D-ARNAUDS BARBET', 'DARK EYED JUNCO',\n",
       "       'BALTIMORE ORIOLE', 'BLACKBURNIAM WARBLER', 'CHUKAR PARTRIDGE',\n",
       "       'DOWNY WOODPECKER', 'GOLDEN CHEEKED WARBLER', 'HOUSE FINCH',\n",
       "       'MALEO', 'OSPREY', 'RAZORBILL', 'SAND MARTIN', 'TAKAHE',\n",
       "       'EASTERN BLUEBIRD', 'EASTERN MEADOWLARK', 'EASTERN ROSELLA',\n",
       "       'EASTERN TOWEE', 'ELEGANT TROGON', 'ELLIOTS  PHEASANT',\n",
       "       'EMPEROR PENGUIN', 'EMU', 'EURASIAN MAGPIE', 'EVENING GROSBEAK',\n",
       "       'FLAME TANAGER', 'FLAMINGO', 'FRIGATE', 'GAMBELS QUAIL',\n",
       "       'GILA WOODPECKER', 'GILDED FLICKER', 'GLOSSY IBIS',\n",
       "       'GOLD WING WARBLER', 'GOLDEN CHLOROPHONIA', 'GOLDEN EAGLE',\n",
       "       'GOLDEN PHEASANT', 'GOLDEN PIPIT', 'GOULDIAN FINCH',\n",
       "       'GRAY CATBIRD', 'GRAY PARTRIDGE', 'GREEN JAY', 'GREY PLOVER',\n",
       "       'GUINEAFOWL', 'GYRFALCON', 'HARPY EAGLE', 'HAWAIIAN GOOSE',\n",
       "       'HOODED MERGANSER', 'HOOPOES', 'HORNBILL', 'HORNED GUAN',\n",
       "       'HORNED SUNGEM', 'HOUSE SPARROW', 'IMPERIAL SHAQ', 'INCA TERN',\n",
       "       'INDIAN BUSTARD', 'INDIGO BUNTING', 'JABIRU', 'JAVAN MAGPIE',\n",
       "       'KAKAPO', 'KILLDEAR', 'KING VULTURE', 'KIWI', 'KOOKABURRA',\n",
       "       'LARK BUNTING', 'LEARS MACAW', 'LILAC ROLLER', 'LONG-EARED OWL',\n",
       "       'MALABAR HORNBILL', 'MALACHITE KINGFISHER', 'MALLARD DUCK',\n",
       "       'MANDRIN DUCK', 'MARABOU STORK', 'MASKED BOOBY',\n",
       "       'MIKADO  PHEASANT', 'MOURNING DOVE', 'MYNA', 'NICOBAR PIGEON',\n",
       "       'NORTHERN CARDINAL', 'NORTHERN FLICKER', 'NORTHERN GANNET',\n",
       "       'NORTHERN GOSHAWK', 'NORTHERN JACANA', 'NORTHERN MOCKINGBIRD',\n",
       "       'NORTHERN PARULA', 'NORTHERN RED BISHOP', 'OCELLATED TURKEY',\n",
       "       'OKINAWA RAIL', 'OSTRICH', 'PAINTED BUNTIG', 'PALILA',\n",
       "       'PARADISE TANAGER', 'PARUS MAJOR', 'PEACOCK', 'PELICAN',\n",
       "       'PEREGRINE FALCON', 'PHILIPPINE EAGLE', 'PINK ROBIN', 'PUFFIN',\n",
       "       'PURPLE FINCH', 'PURPLE GALLINULE', 'PURPLE MARTIN',\n",
       "       'PURPLE SWAMPHEN', 'QUETZAL', 'RAINBOW LORIKEET',\n",
       "       'RED FACED CORMORANT', 'RED FACED WARBLER', 'RED HEADED DUCK',\n",
       "       'RED HEADED WOODPECKER', 'RED HONEY CREEPER',\n",
       "       'RED THROATED BEE EATER', 'RED WINGED BLACKBIRD',\n",
       "       'RED WISKERED BULBUL', 'RING-NECKED PHEASANT', 'ROADRUNNER',\n",
       "       'ROBIN', 'ROCK DOVE', 'ROSY FACED LOVEBIRD', 'ROUGH LEG BUZZARD',\n",
       "       'RUBY THROATED HUMMINGBIRD', 'RUFOUS KINGFISHER', 'RUFUOS MOTMOT',\n",
       "       'SCARLET IBIS', 'SCARLET MACAW', 'SHOEBILL', 'SMITHS LONGSPUR',\n",
       "       'SNOWY EGRET', 'SNOWY OWL', 'SORA', 'SPANGLED COTINGA',\n",
       "       'SPLENDID WREN', 'SPOON BILED SANDPIPER', 'SPOONBILL',\n",
       "       'STEAMER DUCK', 'STORK BILLED KINGFISHER', 'STRAWBERRY FINCH',\n",
       "       'STRIPPED SWALLOW', 'SUPERB STARLING', 'TAIWAN MAGPIE',\n",
       "       'TASMANIAN HEN', 'TEAL DUCK', 'TIT MOUSE', 'TOUCHAN',\n",
       "       'TOWNSENDS WARBLER', 'TREE SWALLOW', 'TRUMPTER SWAN',\n",
       "       'TURKEY VULTURE', 'TURQUOISE MOTMOT', 'VARIED THRUSH',\n",
       "       'VENEZUELIAN TROUPIAL', 'VERMILION FLYCATHER',\n",
       "       'VIOLET GREEN SWALLOW', 'WATTLED CURASSOW', 'WHIMBREL',\n",
       "       'WHITE CHEEKED TURACO', 'WHITE NECKED RAVEN',\n",
       "       'WHITE TAILED TROPIC', 'WILD TURKEY', 'WILSONS BIRD OF PARADISE',\n",
       "       'WOOD DUCK', 'YELLOW CACIQUE', 'YELLOW HEADED BLACKBIRD'],\n",
       "      dtype=object)"
      ]
     },
     "execution_count": 21,
     "metadata": {},
     "output_type": "execute_result"
    }
   ],
   "source": [
    "df_train = pd.DataFrame(list(zip(images, label)), columns=['Image', 'Bird'])\n",
    "df_train.Bird.unique()"
   ]
  },
  {
   "cell_type": "code",
   "execution_count": 22,
   "metadata": {},
   "outputs": [
    {
     "data": {
      "text/plain": [
       "<matplotlib.axes._subplots.AxesSubplot at 0x7f81dc0e4150>"
      ]
     },
     "execution_count": 22,
     "metadata": {},
     "output_type": "execute_result"
    },
    {
     "data": {
      "image/png": "[encoded data removed]",
      "text/plain": [
       "<Figure size 432x288 with 1 Axes>"
      ]
     },
     "metadata": {
      "needs_background": "light"
     },
     "output_type": "display_data"
    }
   ],
   "source": [
    "df_train.Bird.hist()"
   ]
  },
  {
   "cell_type": "code",
   "execution_count": 23,
   "metadata": {},
   "outputs": [
    {
     "name": "stdout",
     "output_type": "stream",
     "text": [
      "Found 26939 images belonging to 225 classes.\n",
      "Found 6627 images belonging to 225 classes.\n",
      "Total number of batches = 3367 and 828\n"
     ]
    }
   ],
   "source": [
    "# Augment data\n",
    "batch_size = 8\n",
    "train_input_shape = (224, 224, 3)\n",
    "n_classes = len(classes)\n",
    "\n",
    "train_datagen = ImageDataGenerator(validation_split=0.2,\n",
    "                                   rescale=1./255.,\n",
    "                                   rotation_range=15,\n",
    "                                   width_shift_range=0.1,\n",
    "                                   height_shift_range=0.1,\n",
    "#                                    shear_range=0.7,\n",
    "                                   zoom_range=0.5,\n",
    "                                   #horizontal_flip=True,\n",
    "                                   #vertical_flip=True,\n",
    "                                  )\n",
    "\n",
    "train_generator = train_datagen.flow_from_directory(directory=PATH,\n",
    "                                                    class_mode='categorical',\n",
    "                                                    target_size=train_input_shape[0:2],\n",
    "                                                    batch_size=batch_size,\n",
    "                                                    subset=\"training\",\n",
    "                                                    shuffle=True,\n",
    "                                                    classes=classes\n",
    "                                                   )\n",
    "\n",
    "valid_generator = train_datagen.flow_from_directory(directory=PATH,\n",
    "                                                    class_mode='categorical',\n",
    "                                                    target_size=train_input_shape[0:2],\n",
    "                                                    batch_size=batch_size,\n",
    "                                                    subset=\"validation\",\n",
    "                                                    shuffle=True,\n",
    "                                                    classes=classes\n",
    "                                                   )\n",
    "\n",
    "STEP_SIZE_TRAIN = train_generator.n//train_generator.batch_size\n",
    "STEP_SIZE_VALID = valid_generator.n//valid_generator.batch_size\n",
    "print(\"Total number of batches =\", STEP_SIZE_TRAIN, \"and\", STEP_SIZE_VALID)"
   ]
  },
  {
   "cell_type": "code",
   "execution_count": 24,
   "metadata": {},
   "outputs": [
    {
     "name": "stdout",
     "output_type": "stream",
     "text": [
      "WARNING:tensorflow:From /home/abhi/anaconda3/lib/python3.7/site-packages/tensorflow_core/python/ops/resource_variable_ops.py:1630: calling BaseResourceVariable.__init__ (from tensorflow.python.ops.resource_variable_ops) with constraint is deprecated and will be removed in a future version.\n",
      "Instructions for updating:\n",
      "If using Keras pass *_constraint arguments to layers.\n"
     ]
    }
   ],
   "source": [
    "base_model = ResNet50(weights='imagenet', include_top=False, input_shape=train_input_shape)\n",
    "\n",
    "for layer in base_model.layers:\n",
    "    layer.trainable = True\n",
    "# Add layers at the end\n",
    "X = base_model.output\n",
    "X = Flatten()(X)\n",
    "\n",
    "X = Dense(512, kernel_initializer='he_uniform')(X)\n",
    "X = Dropout(0.5)(X)\n",
    "X = BatchNormalization()(X)\n",
    "X = Activation('relu')(X)\n",
    "\n",
    "X = Dense(16, kernel_initializer='he_uniform')(X)\n",
    "X = Dropout(0.5)(X)\n",
    "X = BatchNormalization()(X)\n",
    "X = Activation('relu')(X)\n",
    "\n",
    "output = Dense(n_classes, activation='softmax')(X)\n",
    "model = Model(inputs=base_model.input, outputs=output)"
   ]
  },
  {
   "cell_type": "code",
   "execution_count": 25,
   "metadata": {},
   "outputs": [],
   "source": [
    "optimizer = Adam(lr=0.0001)\n",
    "model.compile(loss='categorical_crossentropy',\n",
    "              optimizer=optimizer, \n",
    "              metrics=['accuracy'])"
   ]
  },
  {
   "cell_type": "code",
   "execution_count": 26,
   "metadata": {},
   "outputs": [],
   "source": [
    "n_epoch = 2\n",
    "\n",
    "early_stop = EarlyStopping(monitor='val_loss', patience=20, verbose=1, \n",
    "                           mode='auto', restore_best_weights=True)\n",
    "\n",
    "reduce_lr = ReduceLROnPlateau(monitor='val_loss', factor=0.1, patience=5, \n",
    "                              verbose=1, mode='auto')"
   ]
  },
  {
   "cell_type": "code",
   "execution_count": 27,
   "metadata": {},
   "outputs": [
    {
     "name": "stdout",
     "output_type": "stream",
     "text": [
      "Epoch 1/2\n",
      "  43/3367 [..............................] - ETA: 6:15:26 - loss: 5.4385 - acc: 0.0087"
     ]
    },
    {
     "ename": "KeyboardInterrupt",
     "evalue": "",
     "output_type": "error",
     "traceback": [
      "\u001b[0;31m---------------------------------------------------------------------------\u001b[0m",
      "\u001b[0;31mKeyboardInterrupt\u001b[0m                         Traceback (most recent call last)",
      "\u001b[0;32m<ipython-input-27-7988fa9f56fb>\u001b[0m in \u001b[0;36m<module>\u001b[0;34m\u001b[0m\n\u001b[1;32m      7\u001b[0m                               \u001b[0mcallbacks\u001b[0m\u001b[0;34m=\u001b[0m\u001b[0;34m[\u001b[0m\u001b[0mreduce_lr\u001b[0m\u001b[0;34m]\u001b[0m\u001b[0;34m,\u001b[0m\u001b[0;34m\u001b[0m\u001b[0;34m\u001b[0m\u001b[0m\n\u001b[1;32m      8\u001b[0m                               \u001b[0muse_multiprocessing\u001b[0m\u001b[0;34m=\u001b[0m\u001b[0;32mTrue\u001b[0m\u001b[0;34m,\u001b[0m\u001b[0;34m\u001b[0m\u001b[0;34m\u001b[0m\u001b[0m\n\u001b[0;32m----> 9\u001b[0;31m                               \u001b[0mworkers\u001b[0m\u001b[0;34m=\u001b[0m\u001b[0;36m4\u001b[0m\u001b[0;34m\u001b[0m\u001b[0;34m\u001b[0m\u001b[0m\n\u001b[0m\u001b[1;32m     10\u001b[0m                              )\n",
      "\u001b[0;32m~/anaconda3/lib/python3.7/site-packages/tensorflow_core/python/keras/engine/training.py\u001b[0m in \u001b[0;36mfit_generator\u001b[0;34m(self, generator, steps_per_epoch, epochs, verbose, callbacks, validation_data, validation_steps, validation_freq, class_weight, max_queue_size, workers, use_multiprocessing, shuffle, initial_epoch)\u001b[0m\n\u001b[1;32m   1294\u001b[0m         \u001b[0mshuffle\u001b[0m\u001b[0;34m=\u001b[0m\u001b[0mshuffle\u001b[0m\u001b[0;34m,\u001b[0m\u001b[0;34m\u001b[0m\u001b[0;34m\u001b[0m\u001b[0m\n\u001b[1;32m   1295\u001b[0m         \u001b[0minitial_epoch\u001b[0m\u001b[0;34m=\u001b[0m\u001b[0minitial_epoch\u001b[0m\u001b[0;34m,\u001b[0m\u001b[0;34m\u001b[0m\u001b[0;34m\u001b[0m\u001b[0m\n\u001b[0;32m-> 1296\u001b[0;31m         steps_name='steps_per_epoch')\n\u001b[0m\u001b[1;32m   1297\u001b[0m \u001b[0;34m\u001b[0m\u001b[0m\n\u001b[1;32m   1298\u001b[0m   def evaluate_generator(self,\n",
      "\u001b[0;32m~/anaconda3/lib/python3.7/site-packages/tensorflow_core/python/keras/engine/training_generator.py\u001b[0m in \u001b[0;36mmodel_iteration\u001b[0;34m(model, data, steps_per_epoch, epochs, verbose, callbacks, validation_data, validation_steps, validation_freq, class_weight, max_queue_size, workers, use_multiprocessing, shuffle, initial_epoch, mode, batch_size, steps_name, **kwargs)\u001b[0m\n\u001b[1;32m    263\u001b[0m \u001b[0;34m\u001b[0m\u001b[0m\n\u001b[1;32m    264\u001b[0m       \u001b[0mis_deferred\u001b[0m \u001b[0;34m=\u001b[0m \u001b[0;32mnot\u001b[0m \u001b[0mmodel\u001b[0m\u001b[0;34m.\u001b[0m\u001b[0m_is_compiled\u001b[0m\u001b[0;34m\u001b[0m\u001b[0;34m\u001b[0m\u001b[0m\n\u001b[0;32m--> 265\u001b[0;31m       \u001b[0mbatch_outs\u001b[0m \u001b[0;34m=\u001b[0m \u001b[0mbatch_function\u001b[0m\u001b[0;34m(\u001b[0m\u001b[0;34m*\u001b[0m\u001b[0mbatch_data\u001b[0m\u001b[0;34m)\u001b[0m\u001b[0;34m\u001b[0m\u001b[0;34m\u001b[0m\u001b[0m\n\u001b[0m\u001b[1;32m    266\u001b[0m       \u001b[0;32mif\u001b[0m \u001b[0;32mnot\u001b[0m \u001b[0misinstance\u001b[0m\u001b[0;34m(\u001b[0m\u001b[0mbatch_outs\u001b[0m\u001b[0;34m,\u001b[0m \u001b[0mlist\u001b[0m\u001b[0;34m)\u001b[0m\u001b[0;34m:\u001b[0m\u001b[0;34m\u001b[0m\u001b[0;34m\u001b[0m\u001b[0m\n\u001b[1;32m    267\u001b[0m         \u001b[0mbatch_outs\u001b[0m \u001b[0;34m=\u001b[0m \u001b[0;34m[\u001b[0m\u001b[0mbatch_outs\u001b[0m\u001b[0;34m]\u001b[0m\u001b[0;34m\u001b[0m\u001b[0;34m\u001b[0m\u001b[0m\n",
      "\u001b[0;32m~/anaconda3/lib/python3.7/site-packages/tensorflow_core/python/keras/engine/training.py\u001b[0m in \u001b[0;36mtrain_on_batch\u001b[0;34m(self, x, y, sample_weight, class_weight, reset_metrics)\u001b[0m\n\u001b[1;32m   1015\u001b[0m       \u001b[0mself\u001b[0m\u001b[0;34m.\u001b[0m\u001b[0m_update_sample_weight_modes\u001b[0m\u001b[0;34m(\u001b[0m\u001b[0msample_weights\u001b[0m\u001b[0;34m=\u001b[0m\u001b[0msample_weights\u001b[0m\u001b[0;34m)\u001b[0m\u001b[0;34m\u001b[0m\u001b[0;34m\u001b[0m\u001b[0m\n\u001b[1;32m   1016\u001b[0m       \u001b[0mself\u001b[0m\u001b[0;34m.\u001b[0m\u001b[0m_make_train_function\u001b[0m\u001b[0;34m(\u001b[0m\u001b[0;34m)\u001b[0m\u001b[0;34m\u001b[0m\u001b[0;34m\u001b[0m\u001b[0m\n\u001b[0;32m-> 1017\u001b[0;31m       \u001b[0moutputs\u001b[0m \u001b[0;34m=\u001b[0m \u001b[0mself\u001b[0m\u001b[0;34m.\u001b[0m\u001b[0mtrain_function\u001b[0m\u001b[0;34m(\u001b[0m\u001b[0mins\u001b[0m\u001b[0;34m)\u001b[0m  \u001b[0;31m# pylint: disable=not-callable\u001b[0m\u001b[0;34m\u001b[0m\u001b[0;34m\u001b[0m\u001b[0m\n\u001b[0m\u001b[1;32m   1018\u001b[0m \u001b[0;34m\u001b[0m\u001b[0m\n\u001b[1;32m   1019\u001b[0m     \u001b[0;32mif\u001b[0m \u001b[0mreset_metrics\u001b[0m\u001b[0;34m:\u001b[0m\u001b[0;34m\u001b[0m\u001b[0;34m\u001b[0m\u001b[0m\n",
      "\u001b[0;32m~/anaconda3/lib/python3.7/site-packages/tensorflow_core/python/keras/backend.py\u001b[0m in \u001b[0;36m__call__\u001b[0;34m(self, inputs)\u001b[0m\n\u001b[1;32m   3474\u001b[0m \u001b[0;34m\u001b[0m\u001b[0m\n\u001b[1;32m   3475\u001b[0m     fetched = self._callable_fn(*array_vals,\n\u001b[0;32m-> 3476\u001b[0;31m                                 run_metadata=self.run_metadata)\n\u001b[0m\u001b[1;32m   3477\u001b[0m     \u001b[0mself\u001b[0m\u001b[0;34m.\u001b[0m\u001b[0m_call_fetch_callbacks\u001b[0m\u001b[0;34m(\u001b[0m\u001b[0mfetched\u001b[0m\u001b[0;34m[\u001b[0m\u001b[0;34m-\u001b[0m\u001b[0mlen\u001b[0m\u001b[0;34m(\u001b[0m\u001b[0mself\u001b[0m\u001b[0;34m.\u001b[0m\u001b[0m_fetches\u001b[0m\u001b[0;34m)\u001b[0m\u001b[0;34m:\u001b[0m\u001b[0;34m]\u001b[0m\u001b[0;34m)\u001b[0m\u001b[0;34m\u001b[0m\u001b[0;34m\u001b[0m\u001b[0m\n\u001b[1;32m   3478\u001b[0m     output_structure = nest.pack_sequence_as(\n",
      "\u001b[0;32m~/anaconda3/lib/python3.7/site-packages/tensorflow_core/python/client/session.py\u001b[0m in \u001b[0;36m__call__\u001b[0;34m(self, *args, **kwargs)\u001b[0m\n\u001b[1;32m   1470\u001b[0m         ret = tf_session.TF_SessionRunCallable(self._session._session,\n\u001b[1;32m   1471\u001b[0m                                                \u001b[0mself\u001b[0m\u001b[0;34m.\u001b[0m\u001b[0m_handle\u001b[0m\u001b[0;34m,\u001b[0m \u001b[0margs\u001b[0m\u001b[0;34m,\u001b[0m\u001b[0;34m\u001b[0m\u001b[0;34m\u001b[0m\u001b[0m\n\u001b[0;32m-> 1472\u001b[0;31m                                                run_metadata_ptr)\n\u001b[0m\u001b[1;32m   1473\u001b[0m         \u001b[0;32mif\u001b[0m \u001b[0mrun_metadata\u001b[0m\u001b[0;34m:\u001b[0m\u001b[0;34m\u001b[0m\u001b[0;34m\u001b[0m\u001b[0m\n\u001b[1;32m   1474\u001b[0m           \u001b[0mproto_data\u001b[0m \u001b[0;34m=\u001b[0m \u001b[0mtf_session\u001b[0m\u001b[0;34m.\u001b[0m\u001b[0mTF_GetBuffer\u001b[0m\u001b[0;34m(\u001b[0m\u001b[0mrun_metadata_ptr\u001b[0m\u001b[0;34m)\u001b[0m\u001b[0;34m\u001b[0m\u001b[0;34m\u001b[0m\u001b[0m\n",
      "\u001b[0;31mKeyboardInterrupt\u001b[0m: "
     ]
    },
    {
     "name": "stderr",
     "output_type": "stream",
     "text": [
      "Process Keras_worker_ForkPoolWorker-4:\n",
      "Traceback (most recent call last):\n",
      "  File \"/home/abhi/anaconda3/lib/python3.7/multiprocessing/process.py\", line 297, in _bootstrap\n",
      "    self.run()\n",
      "  File \"/home/abhi/anaconda3/lib/python3.7/multiprocessing/process.py\", line 99, in run\n",
      "    self._target(*self._args, **self._kwargs)\n",
      "  File \"/home/abhi/anaconda3/lib/python3.7/multiprocessing/pool.py\", line 110, in worker\n",
      "    task = get()\n",
      "  File \"/home/abhi/anaconda3/lib/python3.7/multiprocessing/queues.py\", line 352, in get\n",
      "    res = self._reader.recv_bytes()\n",
      "  File \"/home/abhi/anaconda3/lib/python3.7/multiprocessing/connection.py\", line 216, in recv_bytes\n",
      "    buf = self._recv_bytes(maxlength)\n",
      "  File \"/home/abhi/anaconda3/lib/python3.7/multiprocessing/connection.py\", line 407, in _recv_bytes\n",
      "    buf = self._recv(4)\n",
      "  File \"/home/abhi/anaconda3/lib/python3.7/multiprocessing/connection.py\", line 379, in _recv\n",
      "    chunk = read(handle, remaining)\n",
      "KeyboardInterrupt\n"
     ]
    }
   ],
   "source": [
    "# Train the model - all layers\n",
    "history1 = model.fit_generator(generator=train_generator, steps_per_epoch=STEP_SIZE_TRAIN,\n",
    "                              validation_data=valid_generator, validation_steps=STEP_SIZE_VALID,\n",
    "                              epochs=n_epoch,\n",
    "                              shuffle=True,\n",
    "                              verbose=1,\n",
    "                              callbacks=[reduce_lr],\n",
    "                              use_multiprocessing=True,\n",
    "                              workers=4\n",
    "                             )"
   ]
  },
  {
   "cell_type": "code",
   "execution_count": null,
   "metadata": {},
   "outputs": [],
   "source": [
    "# Freeze core ResNet layers and train again \n",
    "for layer in model.layers[-6:]:\n",
    "   layer.trainable = False\n",
    "\n",
    "for layer in model.layers:\n",
    "    layer.trainable = True\n",
    "\n",
    "optimizer = Adam(lr=0.0001)\n",
    "\n",
    "model.compile(loss='categorical_crossentropy',\n",
    "              optimizer=optimizer, \n",
    "              metrics=['accuracy'])\n",
    "\n",
    "n_epoch = 2\n",
    "history2 = model.fit_generator(generator=train_generator, steps_per_epoch=STEP_SIZE_TRAIN,\n",
    "                              validation_data=valid_generator, validation_steps=STEP_SIZE_VALID,\n",
    "                              epochs=n_epoch,\n",
    "                              shuffle=True,\n",
    "                              verbose=1,\n",
    "                              callbacks=[reduce_lr, early_stop],\n",
    "                              use_multiprocessing=True,\n",
    "                              workers=4                             \n",
    "                              )"
   ]
  },
  {
   "cell_type": "code",
   "execution_count": null,
   "metadata": {},
   "outputs": [],
   "source": [
    "# Merge history1 and history2\n",
    "history = {}\n",
    "history['loss'] = history1.history['loss'] + history2.history['loss']\n",
    "history['acc'] = history1.history['accuracy'] + history2.history['accuracy']\n",
    "history['val_loss'] = history1.history['val_loss'] + history2.history['val_loss']\n",
    "history['val_acc'] = history1.history['val_accuracy'] + history2.history['val_accuracy']\n",
    "history['lr'] = history1.history['lr'] + history2.history['lr']"
   ]
  },
  {
   "cell_type": "code",
   "execution_count": null,
   "metadata": {},
   "outputs": [],
   "source": [
    "# Plot the training graph\n",
    "import matplotlib.pyplot as plt\n",
    "def plot_training(history):\n",
    "    acc = history['acc']\n",
    "    val_acc = history['val_acc']\n",
    "    loss = history['loss']\n",
    "    val_loss = history['val_loss']\n",
    "    epochs = range(len(acc))\n",
    "\n",
    "    fig, axes = plt.subplots(1, 2, figsize=(15,5))\n",
    "    \n",
    "    axes[0].plot(epochs, acc, 'r-', label='Training Accuracy')\n",
    "    axes[0].plot(epochs, val_acc, 'b--', label='Validation Accuracy')\n",
    "    axes[0].set_title('Training and Validation Accuracy')\n",
    "    axes[0].legend(loc='best')\n",
    "\n",
    "    axes[1].plot(epochs, loss, 'r-', label='Training Loss')\n",
    "    axes[1].plot(epochs, val_loss, 'b--', label='Validation Loss')\n",
    "    axes[1].set_title('Training and Validation Loss')\n",
    "    axes[1].legend(loc='best')\n",
    "    \n",
    "    plt.show()\n",
    "    \n",
    "plot_training(history)"
   ]
  },
  {
   "cell_type": "code",
   "execution_count": null,
   "metadata": {},
   "outputs": [],
   "source": [
    "score = model.evaluate_generator(valid_generator)\n",
    "print(\"Prediction accuracy on CV data =\", score[1])"
   ]
  },
  {
   "cell_type": "code",
   "execution_count": null,
   "metadata": {},
   "outputs": [],
   "source": [
    "def showClassficationReport_Generator(model, valid_generator, STEP_SIZE_VALID):\n",
    "    # Loop on each generator batch and predict\n",
    "    y_pred, y_true = [], []\n",
    "    for i in range(STEP_SIZE_VALID):\n",
    "        (X,y) = next(valid_generator)\n",
    "        y_pred.append(model.predict(X))\n",
    "        y_true.append(y)\n",
    "    \n",
    "    # Create a flat list for y_true and y_pred\n",
    "    y_pred = [subresult for result in y_pred for subresult in result]\n",
    "    y_true = [subresult for result in y_true for subresult in result]\n",
    "    \n",
    "    # Update Truth vector based on argmax\n",
    "    y_true = np.argmax(y_true, axis=1)\n",
    "    y_true = np.asarray(y_true).ravel()\n",
    "    \n",
    "    # Update Prediction vector based on argmax\n",
    "    y_pred = np.argmax(y_pred, axis=1)\n",
    "    y_pred = np.asarray(y_pred).ravel()\n",
    "    \n",
    "    # Confusion Matrix\n",
    "    fig, ax = plt.subplots(figsize=(10,10))\n",
    "    conf_matrix = confusion_matrix(y_true, y_pred, labels=np.arange(n_classes))\n",
    "    conf_matrix = conf_matrix/np.sum(conf_matrix, axis=1)\n",
    "    sns.heatmap(conf_matrix, annot=True, fmt=\".2f\", square=True, cbar=False, \n",
    "                cmap=plt.cm.jet, xticklabels=tick_labels, yticklabels=tick_labels,\n",
    "                ax=ax)\n",
    "    ax.set_ylabel('Actual')\n",
    "    ax.set_xlabel('Predicted')\n",
    "    ax.set_title('Confusion Matrix')\n",
    "    plt.show()\n",
    "    \n",
    "    print('Classification Report:')\n",
    "    print(classification_report(y_true, y_pred, labels=np.arange(n_classes), target_names=df.Cuisine.unique().tolist()))\n",
    "\n",
    "showClassficationReport_Generator(model, valid_generator, STEP_SIZE_VALID)"
   ]
  },
  {
   "cell_type": "code",
   "execution_count": null,
   "metadata": {},
   "outputs": [],
   "source": []
  }
 ],
 "metadata": {
  "kernelspec": {
   "display_name": "Python 3",
   "language": "python",
   "name": "python3"
  },
  "language_info": {
   "codemirror_mode": {
    "name": "ipython",
    "version": 3
   },
   "file_extension": ".py",
   "mimetype": "text/x-python",
   "name": "python",
   "nbconvert_exporter": "python",
   "pygments_lexer": "ipython3",
   "version": "3.7.6"
  }
 },
 "nbformat": 4,
 "nbformat_minor": 4
}
